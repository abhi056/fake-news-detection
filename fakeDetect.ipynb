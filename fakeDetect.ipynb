{
 "cells": [
  {
   "cell_type": "code",
   "execution_count": 1,
   "metadata": {
    "colab": {},
    "colab_type": "code",
    "id": "AFPWmNdkH8Th"
   },
   "outputs": [],
   "source": [
    "import pandas as pd\n",
    "import numpy as np"
   ]
  },
  {
   "cell_type": "code",
   "execution_count": 5,
   "metadata": {
    "colab": {},
    "colab_type": "code",
    "id": "7eEl1UJrIDjf"
   },
   "outputs": [],
   "source": [
    "df = pd.read_csv('/content/drive/My Drive/Colab Notebooks/news.csv')"
   ]
  },
  {
   "cell_type": "code",
   "execution_count": 6,
   "metadata": {
    "colab": {
     "base_uri": "https://localhost:8080/",
     "height": 35
    },
    "colab_type": "code",
    "id": "-JBb8d8jIDiV",
    "outputId": "f6dd32de-6719-4fe1-ecbe-f3817775867c"
   },
   "outputs": [
    {
     "data": {
      "text/plain": [
       "(6335, 4)"
      ]
     },
     "execution_count": 6,
     "metadata": {
      "tags": []
     },
     "output_type": "execute_result"
    }
   ],
   "source": [
    "df.shape # checking for total no. of articles"
   ]
  },
  {
   "cell_type": "code",
   "execution_count": 7,
   "metadata": {
    "colab": {
     "base_uri": "https://localhost:8080/",
     "height": 206
    },
    "colab_type": "code",
    "id": "uaCdf-e2JQ3P",
    "outputId": "c2214736-afb5-4637-a7cf-f326766a6c91"
   },
   "outputs": [
    {
     "data": {
      "text/html": [
       "<div>\n",
       "<style scoped>\n",
       "    .dataframe tbody tr th:only-of-type {\n",
       "        vertical-align: middle;\n",
       "    }\n",
       "\n",
       "    .dataframe tbody tr th {\n",
       "        vertical-align: top;\n",
       "    }\n",
       "\n",
       "    .dataframe thead th {\n",
       "        text-align: right;\n",
       "    }\n",
       "</style>\n",
       "<table border=\"1\" class=\"dataframe\">\n",
       "  <thead>\n",
       "    <tr style=\"text-align: right;\">\n",
       "      <th></th>\n",
       "      <th>Unnamed: 0</th>\n",
       "      <th>title</th>\n",
       "      <th>text</th>\n",
       "      <th>label</th>\n",
       "    </tr>\n",
       "  </thead>\n",
       "  <tbody>\n",
       "    <tr>\n",
       "      <th>0</th>\n",
       "      <td>8476</td>\n",
       "      <td>You Can Smell Hillary’s Fear</td>\n",
       "      <td>Daniel Greenfield, a Shillman Journalism Fello...</td>\n",
       "      <td>FAKE</td>\n",
       "    </tr>\n",
       "    <tr>\n",
       "      <th>1</th>\n",
       "      <td>10294</td>\n",
       "      <td>Watch The Exact Moment Paul Ryan Committed Pol...</td>\n",
       "      <td>Google Pinterest Digg Linkedin Reddit Stumbleu...</td>\n",
       "      <td>FAKE</td>\n",
       "    </tr>\n",
       "    <tr>\n",
       "      <th>2</th>\n",
       "      <td>3608</td>\n",
       "      <td>Kerry to go to Paris in gesture of sympathy</td>\n",
       "      <td>U.S. Secretary of State John F. Kerry said Mon...</td>\n",
       "      <td>REAL</td>\n",
       "    </tr>\n",
       "    <tr>\n",
       "      <th>3</th>\n",
       "      <td>10142</td>\n",
       "      <td>Bernie supporters on Twitter erupt in anger ag...</td>\n",
       "      <td>— Kaydee King (@KaydeeKing) November 9, 2016 T...</td>\n",
       "      <td>FAKE</td>\n",
       "    </tr>\n",
       "    <tr>\n",
       "      <th>4</th>\n",
       "      <td>875</td>\n",
       "      <td>The Battle of New York: Why This Primary Matters</td>\n",
       "      <td>It's primary day in New York and front-runners...</td>\n",
       "      <td>REAL</td>\n",
       "    </tr>\n",
       "  </tbody>\n",
       "</table>\n",
       "</div>"
      ],
      "text/plain": [
       "   Unnamed: 0  ... label\n",
       "0        8476  ...  FAKE\n",
       "1       10294  ...  FAKE\n",
       "2        3608  ...  REAL\n",
       "3       10142  ...  FAKE\n",
       "4         875  ...  REAL\n",
       "\n",
       "[5 rows x 4 columns]"
      ]
     },
     "execution_count": 7,
     "metadata": {
      "tags": []
     },
     "output_type": "execute_result"
    }
   ],
   "source": [
    "df.head() # checking for order"
   ]
  },
  {
   "cell_type": "code",
   "execution_count": 8,
   "metadata": {
    "colab": {
     "base_uri": "https://localhost:8080/",
     "height": 108
    },
    "colab_type": "code",
    "id": "7GoegCkQJR7k",
    "outputId": "fe0d17a5-48e1-4b36-fc23-03d521341800"
   },
   "outputs": [
    {
     "data": {
      "text/plain": [
       "Unnamed: 0    0\n",
       "title         0\n",
       "text          0\n",
       "label         0\n",
       "dtype: int64"
      ]
     },
     "execution_count": 8,
     "metadata": {
      "tags": []
     },
     "output_type": "execute_result"
    }
   ],
   "source": [
    "df.isnull().sum() # Checking for null entries"
   ]
  },
  {
   "cell_type": "code",
   "execution_count": 9,
   "metadata": {
    "colab": {
     "base_uri": "https://localhost:8080/",
     "height": 206
    },
    "colab_type": "code",
    "id": "IK8opUC0JS5h",
    "outputId": "53f1bb0f-18a0-4bc2-b7e6-84060d057add"
   },
   "outputs": [
    {
     "data": {
      "text/html": [
       "<div>\n",
       "<style scoped>\n",
       "    .dataframe tbody tr th:only-of-type {\n",
       "        vertical-align: middle;\n",
       "    }\n",
       "\n",
       "    .dataframe tbody tr th {\n",
       "        vertical-align: top;\n",
       "    }\n",
       "\n",
       "    .dataframe thead th {\n",
       "        text-align: right;\n",
       "    }\n",
       "</style>\n",
       "<table border=\"1\" class=\"dataframe\">\n",
       "  <thead>\n",
       "    <tr style=\"text-align: right;\">\n",
       "      <th></th>\n",
       "      <th>Unnamed: 0</th>\n",
       "      <th>title</th>\n",
       "      <th>text</th>\n",
       "      <th>label</th>\n",
       "    </tr>\n",
       "  </thead>\n",
       "  <tbody>\n",
       "    <tr>\n",
       "      <th>0</th>\n",
       "      <td>8476</td>\n",
       "      <td>You Can Smell Hillary’s Fear</td>\n",
       "      <td>daniel  greenfield  a  shillman  journalism  f...</td>\n",
       "      <td>FAKE</td>\n",
       "    </tr>\n",
       "    <tr>\n",
       "      <th>1</th>\n",
       "      <td>10294</td>\n",
       "      <td>Watch The Exact Moment Paul Ryan Committed Pol...</td>\n",
       "      <td>google  pinterest  digg  linkedin  reddit  stu...</td>\n",
       "      <td>FAKE</td>\n",
       "    </tr>\n",
       "    <tr>\n",
       "      <th>2</th>\n",
       "      <td>3608</td>\n",
       "      <td>Kerry to go to Paris in gesture of sympathy</td>\n",
       "      <td>us  secretary  of  state  john  f  kerry  said...</td>\n",
       "      <td>REAL</td>\n",
       "    </tr>\n",
       "    <tr>\n",
       "      <th>3</th>\n",
       "      <td>10142</td>\n",
       "      <td>Bernie supporters on Twitter erupt in anger ag...</td>\n",
       "      <td>kaydee  king  kaydeeking  november  9  2016 ...</td>\n",
       "      <td>FAKE</td>\n",
       "    </tr>\n",
       "    <tr>\n",
       "      <th>4</th>\n",
       "      <td>875</td>\n",
       "      <td>The Battle of New York: Why This Primary Matters</td>\n",
       "      <td>its  primary  day  in  new  york  and  frontru...</td>\n",
       "      <td>REAL</td>\n",
       "    </tr>\n",
       "  </tbody>\n",
       "</table>\n",
       "</div>"
      ],
      "text/plain": [
       "   Unnamed: 0  ... label\n",
       "0        8476  ...  FAKE\n",
       "1       10294  ...  FAKE\n",
       "2        3608  ...  REAL\n",
       "3       10142  ...  FAKE\n",
       "4         875  ...  REAL\n",
       "\n",
       "[5 rows x 4 columns]"
      ]
     },
     "execution_count": 9,
     "metadata": {
      "tags": []
     },
     "output_type": "execute_result"
    }
   ],
   "source": [
    "import string # function defined to clean dataset\n",
    "def clean_text(text):\n",
    "    words = str(text).split()\n",
    "    words = [i.lower() + \" \" for i in words]\n",
    "    words = \" \".join(words)\n",
    "    words = words.translate(words.maketrans('', '', string.punctuation))\n",
    "    words = words.replace('—','')\n",
    "    return words\n",
    "\n",
    "df['text'] = df['text'].apply(clean_text)\n",
    "df.head()"
   ]
  },
  {
   "cell_type": "code",
   "execution_count": 10,
   "metadata": {
    "colab": {},
    "colab_type": "code",
    "id": "rXIOuGtQJUGl"
   },
   "outputs": [],
   "source": [
    "from sklearn.model_selection import train_test_split"
   ]
  },
  {
   "cell_type": "code",
   "execution_count": 12,
   "metadata": {
    "colab": {},
    "colab_type": "code",
    "id": "MRIS72JsJVnj"
   },
   "outputs": [],
   "source": [
    "train, test = train_test_split(df, test_size = 0.07)\n",
    "train, validation = train_test_split(train, test_size = 0.03) # split into training, validation and test sets "
   ]
  },
  {
   "cell_type": "code",
   "execution_count": 13,
   "metadata": {
    "colab": {
     "base_uri": "https://localhost:8080/",
     "height": 206
    },
    "colab_type": "code",
    "id": "K-2oDhxPJWt1",
    "outputId": "9d6032f9-1b3c-40f4-fa28-a6d5b46417ca"
   },
   "outputs": [
    {
     "data": {
      "text/html": [
       "<div>\n",
       "<style scoped>\n",
       "    .dataframe tbody tr th:only-of-type {\n",
       "        vertical-align: middle;\n",
       "    }\n",
       "\n",
       "    .dataframe tbody tr th {\n",
       "        vertical-align: top;\n",
       "    }\n",
       "\n",
       "    .dataframe thead th {\n",
       "        text-align: right;\n",
       "    }\n",
       "</style>\n",
       "<table border=\"1\" class=\"dataframe\">\n",
       "  <thead>\n",
       "    <tr style=\"text-align: right;\">\n",
       "      <th></th>\n",
       "      <th>Unnamed: 0</th>\n",
       "      <th>title</th>\n",
       "      <th>text</th>\n",
       "      <th>label</th>\n",
       "    </tr>\n",
       "  </thead>\n",
       "  <tbody>\n",
       "    <tr>\n",
       "      <th>2730</th>\n",
       "      <td>8822</td>\n",
       "      <td>Nestle to launch new non-GMO products ... How ...</td>\n",
       "      <td>nestle  to  launch  new  nongmo  products    h...</td>\n",
       "      <td>FAKE</td>\n",
       "    </tr>\n",
       "    <tr>\n",
       "      <th>3502</th>\n",
       "      <td>1614</td>\n",
       "      <td>The fourth GOP debate is more about the party’...</td>\n",
       "      <td>the  leading  republican  presidential  candid...</td>\n",
       "      <td>REAL</td>\n",
       "    </tr>\n",
       "    <tr>\n",
       "      <th>3025</th>\n",
       "      <td>1366</td>\n",
       "      <td>Rand Paul Drops Out Of White House Race</td>\n",
       "      <td>kentucky  sen  rand  paul  is  suspending  his...</td>\n",
       "      <td>REAL</td>\n",
       "    </tr>\n",
       "    <tr>\n",
       "      <th>1732</th>\n",
       "      <td>7971</td>\n",
       "      <td>Hillary cancels public appearance due to a lar...</td>\n",
       "      <td>memes  breaking  hillary  cancels  public  app...</td>\n",
       "      <td>FAKE</td>\n",
       "    </tr>\n",
       "    <tr>\n",
       "      <th>5964</th>\n",
       "      <td>7717</td>\n",
       "      <td>Christie Lost Republicans The 2012 Election. H...</td>\n",
       "      <td>christie  lost  republicans  the  2012  electi...</td>\n",
       "      <td>FAKE</td>\n",
       "    </tr>\n",
       "  </tbody>\n",
       "</table>\n",
       "</div>"
      ],
      "text/plain": [
       "      Unnamed: 0  ... label\n",
       "2730        8822  ...  FAKE\n",
       "3502        1614  ...  REAL\n",
       "3025        1366  ...  REAL\n",
       "1732        7971  ...  FAKE\n",
       "5964        7717  ...  FAKE\n",
       "\n",
       "[5 rows x 4 columns]"
      ]
     },
     "execution_count": 13,
     "metadata": {
      "tags": []
     },
     "output_type": "execute_result"
    }
   ],
   "source": [
    "train.head()"
   ]
  },
  {
   "cell_type": "code",
   "execution_count": 14,
   "metadata": {
    "colab": {},
    "colab_type": "code",
    "id": "kkb1CAXlJZhe"
   },
   "outputs": [],
   "source": [
    "from tensorflow.keras.preprocessing.text import Tokenizer\n",
    "from tensorflow.keras.preprocessing.sequence import pad_sequences"
   ]
  },
  {
   "cell_type": "code",
   "execution_count": 15,
   "metadata": {
    "colab": {},
    "colab_type": "code",
    "id": "Pfi7bCM4Ja9t"
   },
   "outputs": [],
   "source": [
    "vocab_size = 10000\n",
    "trunc_type = \"post\"\n",
    "pad_type = \"post\"\n",
    "oov_tok = \"<OOV>\" \n",
    "tokenizer = Tokenizer(num_words = vocab_size, oov_token=oov_tok)\n",
    "tokenizer.fit_on_texts(train.text) # only text feature is used for training\n",
    "word_index = tokenizer.word_index\n",
    "training_sequences = tokenizer.texts_to_sequences(np.array(train.text))\n",
    "training_padded = pad_sequences(training_sequences,truncating=trunc_type, padding=pad_type)\n",
    "\n",
    "max_length = len(training_padded[0])\n",
    "\n",
    "validation_sequences = tokenizer.texts_to_sequences(np.array(validation.text))\n",
    "validation_padded = pad_sequences(validation_sequences, padding=pad_type, truncating=trunc_type, maxlen = max_length)"
   ]
  },
  {
   "cell_type": "code",
   "execution_count": 16,
   "metadata": {
    "colab": {},
    "colab_type": "code",
    "id": "l4Vc-3HwJc4q"
   },
   "outputs": [],
   "source": [
    "# setting the training inputs\n",
    "train_x = np.copy(training_padded)\n",
    "validate_x = np.copy(validation_padded)"
   ]
  },
  {
   "cell_type": "code",
   "execution_count": 17,
   "metadata": {
    "colab": {},
    "colab_type": "code",
    "id": "w1XBdJ3vJgDH"
   },
   "outputs": [],
   "source": [
    "# setting the training targets\n",
    "train_y = train['label'].replace('FAKE',1).replace('REAL',0).values\n",
    "validate_y = validation['label'].replace('FAKE',1).replace('REAL',0).values"
   ]
  },
  {
   "cell_type": "markdown",
   "metadata": {
    "colab_type": "text",
    "id": "wmmVpsEhJncT"
   },
   "source": [
    "### Defining the model"
   ]
  },
  {
   "cell_type": "code",
   "execution_count": 19,
   "metadata": {
    "colab": {},
    "colab_type": "code",
    "id": "nP_lQiPgJij6"
   },
   "outputs": [],
   "source": [
    "import tensorflow as tf"
   ]
  },
  {
   "cell_type": "code",
   "execution_count": 20,
   "metadata": {
    "colab": {},
    "colab_type": "code",
    "id": "vs2uZwjiJo65"
   },
   "outputs": [],
   "source": [
    "model = tf.keras.Sequential([\n",
    "    tf.keras.layers.Embedding(vocab_size, 16, input_length=max_length),\n",
    "    tf.keras.layers.Conv1D(16, 5, activation='relu'),\n",
    "    tf.keras.layers.GlobalMaxPooling1D(),\n",
    "    tf.keras.layers.Dense(1, activation='sigmoid')\n",
    "])\n",
    "model.compile(loss='binary_crossentropy',optimizer=tf.keras.optimizers.Adam(learning_rate=0.001), metrics=['accuracy'])"
   ]
  },
  {
   "cell_type": "markdown",
   "metadata": {
    "colab_type": "text",
    "id": "1GMKsa5NJzal"
   },
   "source": [
    "### Training the model"
   ]
  },
  {
   "cell_type": "code",
   "execution_count": 22,
   "metadata": {
    "colab": {
     "base_uri": "https://localhost:8080/",
     "height": 380
    },
    "colab_type": "code",
    "id": "sqNmHTMCJvSr",
    "outputId": "75f45de3-c0bc-479b-a5d8-4a3949e2b049"
   },
   "outputs": [
    {
     "name": "stdout",
     "output_type": "stream",
     "text": [
      "Epoch 1/10\n",
      "179/179 - 61s - loss: 0.6502 - accuracy: 0.6587 - val_loss: 0.5760 - val_accuracy: 0.7627\n",
      "Epoch 2/10\n",
      "179/179 - 60s - loss: 0.4013 - accuracy: 0.8490 - val_loss: 0.3874 - val_accuracy: 0.8362\n",
      "Epoch 3/10\n",
      "179/179 - 61s - loss: 0.2336 - accuracy: 0.9204 - val_loss: 0.2867 - val_accuracy: 0.9040\n",
      "Epoch 4/10\n",
      "179/179 - 60s - loss: 0.1457 - accuracy: 0.9596 - val_loss: 0.2357 - val_accuracy: 0.9379\n",
      "Epoch 5/10\n",
      "179/179 - 60s - loss: 0.0910 - accuracy: 0.9785 - val_loss: 0.2177 - val_accuracy: 0.9492\n",
      "Epoch 6/10\n",
      "179/179 - 60s - loss: 0.0566 - accuracy: 0.9911 - val_loss: 0.2020 - val_accuracy: 0.9492\n",
      "Epoch 7/10\n",
      "179/179 - 60s - loss: 0.0359 - accuracy: 0.9961 - val_loss: 0.2095 - val_accuracy: 0.9548\n",
      "Epoch 8/10\n",
      "179/179 - 60s - loss: 0.0229 - accuracy: 0.9988 - val_loss: 0.2077 - val_accuracy: 0.9548\n",
      "Epoch 9/10\n",
      "179/179 - 60s - loss: 0.0147 - accuracy: 0.9998 - val_loss: 0.2138 - val_accuracy: 0.9435\n",
      "Epoch 10/10\n",
      "179/179 - 61s - loss: 0.0101 - accuracy: 1.0000 - val_loss: 0.2159 - val_accuracy: 0.9435\n"
     ]
    }
   ],
   "source": [
    "history = model.fit(train_x, train_y, verbose = 2, epochs = 10, validation_data = (validate_x, validate_y),\n",
    "                   callbacks=[tf.keras.callbacks.EarlyStopping('val_loss', patience=6)])"
   ]
  },
  {
   "cell_type": "markdown",
   "metadata": {
    "colab_type": "text",
    "id": "nbLFZCsSJ4Yt"
   },
   "source": [
    "### Predicting using test data"
   ]
  },
  {
   "cell_type": "code",
   "execution_count": 24,
   "metadata": {
    "colab": {
     "base_uri": "https://localhost:8080/",
     "height": 92
    },
    "colab_type": "code",
    "id": "S2cMQ35mJ4wP",
    "outputId": "9a615de1-f3e4-4152-e15b-2927c732deca"
   },
   "outputs": [
    {
     "name": "stdout",
     "output_type": "stream",
     "text": [
      "Accuracy of the mode is:  0.9256756756756757\n"
     ]
    },
    {
     "name": "stderr",
     "output_type": "stream",
     "text": [
      "/usr/local/lib/python3.6/dist-packages/ipykernel_launcher.py:4: DeprecationWarning: Calling np.sum(generator) is deprecated, and in the future will give a different result. Use np.sum(np.fromiter(generator)) or the python sum builtin instead.\n",
      "  after removing the cwd from sys.path.\n"
     ]
    }
   ],
   "source": [
    "test_sequences = tokenizer.texts_to_sequences(np.array(test.text))\n",
    "test_padded = pad_sequences(test_sequences, padding=pad_type, truncating=trunc_type, maxlen = max_length)\n",
    "preds = np.round(model.predict(test_padded))\n",
    "acc = np.sum(1 if i==j else 0 for i,j in zip(preds, test[\"label\"].replace('FAKE',1).replace('REAL',0).values)) / len(test)\n",
    "print(\"Accuracy of the mode is: \", acc )"
   ]
  },
  {
   "cell_type": "markdown",
   "metadata": {
    "colab_type": "text",
    "id": "sn0hA2WyKAqN"
   },
   "source": [
    "### Confusion Matrix"
   ]
  },
  {
   "cell_type": "code",
   "execution_count": 28,
   "metadata": {
    "colab": {},
    "colab_type": "code",
    "id": "RGjx7DNLKBSD"
   },
   "outputs": [],
   "source": [
    "from sklearn.metrics import confusion_matrix\n",
    "import matplotlib.pyplot as plt"
   ]
  },
  {
   "cell_type": "code",
   "execution_count": 26,
   "metadata": {
    "colab": {},
    "colab_type": "code",
    "id": "4YN_SqHeKCpY"
   },
   "outputs": [],
   "source": [
    "TN, FP, FN, TP = confusion_matrix(test[\"label\"].replace('FAKE',1).replace('REAL',0).values, preds).ravel()\n",
    "cm = confusion_matrix(test[\"label\"].replace('FAKE',1).replace('REAL',0).values, preds)"
   ]
  },
  {
   "cell_type": "code",
   "execution_count": 29,
   "metadata": {
    "colab": {
     "base_uri": "https://localhost:8080/",
     "height": 266
    },
    "colab_type": "code",
    "id": "h4o7gUT-KEMw",
    "outputId": "992b0aaa-bc83-42f3-bbc1-349acc2f4bea"
   },
   "outputs": [
    {
     "data": {
      "text/plain": [
       "(0.0, 1.0, 0.0, 1.0)"
      ]
     },
     "execution_count": 29,
     "metadata": {
      "tags": []
     },
     "output_type": "execute_result"
    },
    {
     "data": {
      "image/png": "[encoded data removed]",
      "text/plain": [
       "<Figure size 432x288 with 1 Axes>"
      ]
     },
     "metadata": {
      "needs_background": "light",
      "tags": []
     },
     "output_type": "display_data"
    }
   ],
   "source": [
    "plt.table(cellText=[[TP,FN],[FP,TN]],cellLoc='center',colWidths=[0.5,0.5],rowLabels=['FAKE (Actual label)','REAL (Actual label)'],colLabels=['FAKE (Prediction)','REAL (Prediction)'],loc=0)\n",
    "plt.axis('off')"
   ]
  },
  {
   "cell_type": "code",
   "execution_count": 29,
   "metadata": {
    "colab": {},
    "colab_type": "code",
    "id": "ksKhCvf0PCO_"
   },
   "outputs": [],
   "source": []
  }
 ],
 "metadata": {
  "colab": {
   "name": "Untitled1.ipynb",
   "provenance": []
  },
  "kernelspec": {
   "display_name": "Python 3",
   "language": "python",
   "name": "python3"
  },
  "language_info": {
   "codemirror_mode": {
    "name": "ipython",
    "version": 3
   },
   "file_extension": ".py",
   "mimetype": "text/x-python",
   "name": "python",
   "nbconvert_exporter": "python",
   "pygments_lexer": "ipython3",
   "version": "3.7.3"
  }
 },
 "nbformat": 4,
 "nbformat_minor": 1
}
